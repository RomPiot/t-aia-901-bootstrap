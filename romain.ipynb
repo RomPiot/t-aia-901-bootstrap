{
 "cells": [
  {
   "cell_type": "code",
   "execution_count": 89,
   "metadata": {},
   "outputs": [],
   "source": [
    "import os\n",
    "import numpy as np\n",
    "import pandas as pd\n",
    "import sklearn\n",
    "import sklearn.feature_extraction\n",
    "from sklearn.feature_extraction.text import CountVectorizer\n",
    "from sklearn.feature_extraction.text import TfidfVectorizer\n",
    "from sklearn.cluster import KMeans\n",
    "\n",
    "# remove stopword et ponctuation\n",
    "\n",
    "def get_text_file(file_path):\n",
    "    with open(file_path, 'r', encoding='utf8') as f:\n",
    "        return f.read().replace('\\n','')\n",
    "\n",
    "def array_sentences(paragraph):\n",
    "    sentences = []\n",
    "\n",
    "    while paragraph.find('.') != -1:\n",
    "        index = paragraph.find('.')\n",
    "        sentences.append(paragraph[:index+1])\n",
    "        paragraph = paragraph[index+1:]\n",
    "\n",
    "    return sentences\n",
    "\n",
    "path = 'discours/tous'\n",
    "dataset_trundated = {}\n",
    "dataset = {}\n",
    "length = 10\n",
    "\n",
    "for filename in os.listdir(path):\n",
    "\n",
    "    if filename.endswith(\".txt\"): \n",
    "\n",
    "        file_path = f\"{path}/{filename}\"\n",
    "        file_content = get_text_file(file_path)\n",
    "        file_content_truncated = file_content[:40]\n",
    "        # dataset[filename] = sklearn.utils.Bunch(data=file_content_truncated)\n",
    "        dataset_trundated[filename] = file_content_truncated\n",
    "        dataset[filename] = file_content\n",
    "\n",
    "        # file_words = tokenize(file_content)\n",
    "        # print(vectors)\n",
    "        continue\n",
    "\n",
    "    else:\n",
    "        continue\n",
    "\n",
    "dataset_values = dataset.values()\n",
    "# print(dataset_values)\n",
    "\n"
   ]
  },
  {
   "cell_type": "code",
   "execution_count": 91,
   "metadata": {},
   "outputs": [
    {
     "name": "stdout",
     "output_type": "stream",
     "text": [
      "(95, 31743)\n"
     ]
    }
   ],
   "source": [
    "\n",
    "# Entraintenant du modele\n",
    "cv = CountVectorizer()\n",
    "text_vectorized = cv.fit(dataset_values)\n",
    "# print(text_vectorized.vocabulary_)\n",
    "# print(text_vectorized.get_feature_names())\n",
    "\n",
    "# text_transformed = cv.transform(dataset_values)\n",
    "# # # print(text_transformed.shape)\n",
    "# # # print(text_transformed.toarray())\n",
    "\n",
    "# df = pd.DataFrame(text_transformed.toarray(), columns=cv.get_feature_names())\n",
    "\n",
    "vectorizer = TfidfVectorizer(use_idf=True)\n",
    "text_vectorized_tfid = vectorizer.fit_transform(dataset_values)\n",
    "# print(text_vectorized_tfid)\n",
    "# print(text_vectorized_tfid.toarray())\n",
    "print(text_vectorized_tfid.shape)\n",
    "\n",
    "# df = pd.DataFrame(text_vectorized_tfid[0].T.todense(), index=vectorizer.get_feature_names(), columns=[\"TF-IDF\"])\n",
    "# df = df.sort_values('TF-IDF', ascending=False)\n",
    "# print (df.head(25))"
   ]
  },
  {
   "cell_type": "code",
   "execution_count": 87,
   "metadata": {},
   "outputs": [
    {
     "data": {
      "text/plain": [
       "array([6, 2, 1, 5, 7, 3, 3, 2, 5, 2, 3, 7, 2, 1, 2, 5, 6, 5, 2, 2, 1, 3,\n",
       "       2, 3, 6, 5, 1, 3, 1, 3, 3, 6, 6, 5, 1, 3, 2, 3, 6, 6, 2, 3, 7, 5,\n",
       "       7, 1, 7, 2, 2, 2, 6, 5, 2, 3, 5, 6, 4, 7, 7, 2, 3, 6, 1, 1, 5, 3,\n",
       "       2, 2, 3, 2, 1, 3, 2, 5, 3, 0, 6, 7, 2, 3, 6, 2, 2, 7, 5, 6, 2, 3,\n",
       "       2, 3, 3, 1, 3, 1, 5])"
      ]
     },
     "execution_count": 87,
     "metadata": {},
     "output_type": "execute_result"
    }
   ],
   "source": [
    "\n",
    "kmeans = KMeans(random_state=0).fit(text_vectorized_tfid)\n",
    "kmeans.labels_\n",
    "\n",
    "# kmeans.cluster_centers_"
   ]
  },
  {
   "cell_type": "code",
   "execution_count": null,
   "metadata": {},
   "outputs": [],
   "source": []
  }
 ],
 "metadata": {
  "interpreter": {
   "hash": "b3ba2566441a7c06988d0923437866b63cedc61552a5af99d1f4fb67d367b25f"
  },
  "kernelspec": {
   "display_name": "Python 3.8.8 64-bit ('base': conda)",
   "name": "python3"
  },
  "language_info": {
   "codemirror_mode": {
    "name": "ipython",
    "version": 3
   },
   "file_extension": ".py",
   "mimetype": "text/x-python",
   "name": "python",
   "nbconvert_exporter": "python",
   "pygments_lexer": "ipython3",
   "version": "3.8.8"
  }
 },
 "nbformat": 4,
 "nbformat_minor": 5
}
