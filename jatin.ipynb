{
 "cells": [
  {
   "cell_type": "code",
   "execution_count": 89,
   "metadata": {},
   "outputs": [],
   "source": [
    "import os, glob\n",
    "import pandas as pd\n",
    "#from sklearn.cluster import KMeans\n",
    "from sklearn.feature_extraction import DictVectorizer\n",
    "from nltk.corpus import stopwords\n",
    "from sklearn.feature_extraction.text import CountVectorizer\n",
    "from sklearn.feature_extraction.text import TfidfVectorizer"
   ]
  },
  {
   "cell_type": "code",
   "execution_count": 91,
   "metadata": {},
   "outputs": [
    {
     "name": "stdout",
     "output_type": "stream",
     "text": [
      "(95, 31743)\n"
     ]
    }
   ],
   "source": [
    "#Declare the useful variables\n",
    "datasets = {}\n",
    "length = 40\n",
    "\n",
    "# Specifying the current working path of the folder\n",
    "path = \"./discours/tous\" + \"/\" \n",
    "\n",
    "\n",
    "# Getting the FileNames of all .txt files.\n",
    "filenames = os.listdir(path)\n",
    "\n",
    "def Get_File_Text(filename):\n",
    "\n",
    "    # Specifying the current working path of the folder\n",
    "    path = \"./discours/tous\" + \"/\" + filename \n",
    "    sorted_rows  = \"\"\n",
    "\n",
    "    with open(path) as file:\n",
    "        lines = file.readlines()\n",
    "        #sorted_rows  = lines.sort('/n')\n",
    "        #print(sorted_rows)\n",
    "\n",
    "        # for line in lines:\n",
    "        #     sorted_rows  += line\n",
    "\n",
    "        datasets[filename] = lines \n",
    "\n",
    "#for every file, we create a bunch and add the attributes in it\n",
    "for i in filenames:\n",
    "    Get_File_Text(i)\n",
    "\n",
    "\n",
    "for k in datasets:\n",
    "    #print(k, \":\" , '%.70s' % datasets.get(k))\n",
    "    print(datasets)"
   ]
  },
  {
   "cell_type": "code",
   "execution_count": 87,
   "metadata": {},
   "outputs": [
    {
     "data": {
      "text/plain": [
       "array([6, 2, 1, 5, 7, 3, 3, 2, 5, 2, 3, 7, 2, 1, 2, 5, 6, 5, 2, 2, 1, 3,\n",
       "       2, 3, 6, 5, 1, 3, 1, 3, 3, 6, 6, 5, 1, 3, 2, 3, 6, 6, 2, 3, 7, 5,\n",
       "       7, 1, 7, 2, 2, 2, 6, 5, 2, 3, 5, 6, 4, 7, 7, 2, 3, 6, 1, 1, 5, 3,\n",
       "       2, 2, 3, 2, 1, 3, 2, 5, 3, 0, 6, 7, 2, 3, 6, 2, 2, 7, 5, 6, 2, 3,\n",
       "       2, 3, 3, 1, 3, 1, 5])"
      ]
     },
     "execution_count": 87,
     "metadata": {},
     "output_type": "execute_result"
    }
   ],
   "source": [
    "# vec = DictVectorizer()\n",
    "\n",
    "# vec.fit_transform(datasets).toarray()\n",
    "\n",
    "# vec.get_feature_names_out()\n",
    "\n",
    "# tokens = CountVectorizer(analyzer = 'word', stop_words = 'english')\n",
    "# X = tokens.fit_transform(datasets)\n",
    "\n",
    "vectorizer = TfidfVectorizer()\n",
    "tfidf_vec = vectorizer.fit_transform(datasets)\n",
    "\n",
    "for i in tfidf_vec:\n",
    "    print(i)\n"
   ]
  },
  {
   "cell_type": "code",
   "execution_count": null,
   "metadata": {},
   "outputs": [],
   "source": []
  }
 ],
 "metadata": {
  "interpreter": {
   "hash": "b3ba2566441a7c06988d0923437866b63cedc61552a5af99d1f4fb67d367b25f"
  },
  "kernelspec": {
   "display_name": "Python 3.8.8 64-bit ('base': conda)",
   "name": "python3"
  },
  "language_info": {
   "codemirror_mode": {
    "name": "ipython",
    "version": 3
   },
   "file_extension": ".py",
   "mimetype": "text/x-python",
   "name": "python",
   "nbconvert_exporter": "python",
   "pygments_lexer": "ipython3",
   "version": "3.8.8"
  }
 },
 "nbformat": 4,
 "nbformat_minor": 5
}
